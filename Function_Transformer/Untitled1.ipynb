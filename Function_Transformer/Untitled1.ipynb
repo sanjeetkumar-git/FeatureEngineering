{
 "cells": [
  {
   "cell_type": "markdown",
   "id": "961c3b9d",
   "metadata": {},
   "source": [
    "#### Headers\n",
    "# Header 1 \n",
    "## Header 2\n",
    "#### Styles\n",
    "*Italic*, **bold**, _underscore_, ~~strikethrough~~\n",
    "#### Hyperlink\n",
    "[hyperlink](https://www.markdownguide.org/)\n",
    "#### Table\n",
    "| Default | Left-aligned | Center-aligned | Right-aligned |\n",
    "|---------|:-------------|:--------------:|--------------:|\n",
    "| Default | Left | Center | Right |\n",
    "#### Others\n",
    "* Bulleted item 1\n",
    "    * Bulleted subitem 1\n",
    "* Bulleted item 2\n",
    "***\n",
    "1. Ordered item 1  \n",
    "    1.1. Ordered subitem 1  \n",
    "2. Ordered item 2\n",
    "***\n",
    "- [ ] Unchecked box\n",
    "- [x] Checked box"
   ]
  },
  {
   "cell_type": "markdown",
   "id": "15a5f4e2",
   "metadata": {},
   "source": [
    "Example: <font color=green>green text</font>, <font color=blue>*blue italised text*</font> and <font color=#FF0000>**red bold text**</font>."
   ]
  },
  {
   "cell_type": "markdown",
   "id": "39c0b368",
   "metadata": {},
   "source": [
    "In addition, we can also <mark>highlight text</mark>.\n"
   ]
  },
  {
   "cell_type": "markdown",
   "id": "ff3b4646",
   "metadata": {},
   "source": [
    "<div class=\"alert alert-info\">Example text highlighted in blue background.</div>\n",
    "<div class=\"alert alert-success\">Example text highlighted in green background.</div>\n",
    "<div class=\"alert alert-warning\">Example text highlighted in yellow background.</div>\n",
    "<div class=\"alert alert-danger\">Example text highlighted in red background.</div>"
   ]
  },
  {
   "cell_type": "markdown",
   "id": "b1670c23",
   "metadata": {},
   "source": [
    "$$logloss(\\theta) = - {1 \\over m} \\sum_{i=1}^m (y_i  \\ln(\\hat p(y_i=1)) + (1-y_i)  \\ln(1-\\hat p(y_i=1)))$$\n"
   ]
  },
  {
   "cell_type": "markdown",
   "id": "04b126fe",
   "metadata": {},
   "source": [
    "\\begin{equation} logloss(\\theta) = - {1 \\over m} \\sum_{i=1}^m (y_i  \\ln(\\hat p(y_i=1)) + (1-y_i)  \\ln(1-\\hat p(y_i=1))) \\end{equation}\n"
   ]
  },
  {
   "cell_type": "markdown",
   "id": "f9a04e71",
   "metadata": {},
   "source": [
    "If you haven't installed textblob, you can install it with: `pip install texblob`.DS_Store"
   ]
  },
  {
   "cell_type": "markdown",
   "id": "ec2cbaa4",
   "metadata": {},
   "source": [
    "If you haven't installed libraries, you can install them with the following command:\n",
    "```\n",
    "conda install pandas, numpy, sklearn -y\n",
    "pip install textblob\n",
    "```"
   ]
  },
  {
   "cell_type": "markdown",
   "id": "e07432a7",
   "metadata": {},
   "source": [
    "```python\n",
    "{\"minimum\": 10, \"maximum\": 50, \"name\": \"optimiser\"}\n",
    "```"
   ]
  },
  {
   "cell_type": "markdown",
   "id": "ecc0138b",
   "metadata": {},
   "source": [
    "```python\n",
    "{\"minimum\": 10, \"maximum\": 50, \"name\": \"optimiser\"}\n",
    "```"
   ]
  },
  {
   "cell_type": "markdown",
   "id": "8ff1399f",
   "metadata": {},
   "source": [
    "Sample non-indented sentence here.\n",
    "> **Note:** Indented text.\n"
   ]
  },
  {
   "cell_type": "markdown",
   "id": "f347a111",
   "metadata": {},
   "source": [
    "<img src=\"example.jpeg\">"
   ]
  },
  {
   "cell_type": "markdown",
   "id": "e6d819d7",
   "metadata": {},
   "source": [
    "<img src=\"example.gif\"/>"
   ]
  },
  {
   "cell_type": "markdown",
   "id": "632ad9c9",
   "metadata": {},
   "source": [
    "<img src=\"https://media.giphy.com/media/XtdLpKOzoxJCzlFY4n/giphy.gif\">"
   ]
  },
  {
   "cell_type": "markdown",
   "id": "7adb5a86",
   "metadata": {},
   "source": [
    "<video controls src=\"example.mp4\"  width=600/>"
   ]
  },
  {
   "cell_type": "markdown",
   "id": "0469e806",
   "metadata": {},
   "source": [
    "&#10148; Bullet point one</br>\n",
    "&#10148; Bullet point two</br>\n",
    "&#10148; Bullet point three\n"
   ]
  },
  {
   "cell_type": "markdown",
   "id": "4add762d",
   "metadata": {},
   "source": [
    "✅ Sample text A</br>\n",
    "✅ Sample text B</br>\n",
    "✅ Sample text C"
   ]
  },
  {
   "cell_type": "code",
   "execution_count": null,
   "id": "b1fa27b1",
   "metadata": {},
   "outputs": [],
   "source": []
  }
 ],
 "metadata": {
  "kernelspec": {
   "display_name": "Python 3 (ipykernel)",
   "language": "python",
   "name": "python3"
  },
  "language_info": {
   "codemirror_mode": {
    "name": "ipython",
    "version": 3
   },
   "file_extension": ".py",
   "mimetype": "text/x-python",
   "name": "python",
   "nbconvert_exporter": "python",
   "pygments_lexer": "ipython3",
   "version": "3.9.12"
  },
  "varInspector": {
   "cols": {
    "lenName": 16,
    "lenType": 16,
    "lenVar": 40
   },
   "kernels_config": {
    "python": {
     "delete_cmd_postfix": "",
     "delete_cmd_prefix": "del ",
     "library": "var_list.py",
     "varRefreshCmd": "print(var_dic_list())"
    },
    "r": {
     "delete_cmd_postfix": ") ",
     "delete_cmd_prefix": "rm(",
     "library": "var_list.r",
     "varRefreshCmd": "cat(var_dic_list()) "
    }
   },
   "types_to_exclude": [
    "module",
    "function",
    "builtin_function_or_method",
    "instance",
    "_Feature"
   ],
   "window_display": false
  }
 },
 "nbformat": 4,
 "nbformat_minor": 5
}
